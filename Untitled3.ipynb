{
 "cells": [
  {
   "cell_type": "code",
   "execution_count": 1,
   "id": "3d6ecf68",
   "metadata": {},
   "outputs": [],
   "source": [
    "import sympy as smp"
   ]
  },
  {
   "cell_type": "code",
   "execution_count": 2,
   "id": "0232e2b2",
   "metadata": {},
   "outputs": [
    {
     "data": {
      "text/latex": [
       "$\\displaystyle \\pi$"
      ],
      "text/plain": [
       "pi"
      ]
     },
     "execution_count": 2,
     "metadata": {},
     "output_type": "execute_result"
    }
   ],
   "source": [
    "smp.pi"
   ]
  },
  {
   "cell_type": "code",
   "execution_count": 3,
   "id": "2fb08a9a",
   "metadata": {},
   "outputs": [
    {
     "data": {
      "text/plain": [
       "3.141592653589793"
      ]
     },
     "execution_count": 3,
     "metadata": {},
     "output_type": "execute_result"
    }
   ],
   "source": [
    "float(smp.pi)"
   ]
  },
  {
   "cell_type": "code",
   "execution_count": 9,
   "id": "6d9fc388",
   "metadata": {},
   "outputs": [],
   "source": [
    "r, R = smp.symbols(\"r R\")"
   ]
  },
  {
   "cell_type": "code",
   "execution_count": 10,
   "id": "04922ab0",
   "metadata": {},
   "outputs": [
    {
     "data": {
      "text/latex": [
       "$\\displaystyle \\pi r^{2}$"
      ],
      "text/plain": [
       "pi*r**2"
      ]
     },
     "execution_count": 10,
     "metadata": {},
     "output_type": "execute_result"
    }
   ],
   "source": [
    "r**2*smp.pi"
   ]
  },
  {
   "cell_type": "code",
   "execution_count": 13,
   "id": "1e19625d",
   "metadata": {},
   "outputs": [],
   "source": [
    "circle = 2*R*smp.pi"
   ]
  },
  {
   "cell_type": "code",
   "execution_count": 14,
   "id": "6b53ea60",
   "metadata": {},
   "outputs": [
    {
     "data": {
      "text/latex": [
       "$\\displaystyle 2 \\pi R$"
      ],
      "text/plain": [
       "2*pi*R"
      ]
     },
     "execution_count": 14,
     "metadata": {},
     "output_type": "execute_result"
    }
   ],
   "source": [
    "circle"
   ]
  },
  {
   "cell_type": "code",
   "execution_count": 16,
   "id": "86a8e318",
   "metadata": {},
   "outputs": [],
   "source": [
    "area = circle.subs(R, 10)"
   ]
  },
  {
   "cell_type": "code",
   "execution_count": 18,
   "id": "15adae85",
   "metadata": {},
   "outputs": [
    {
     "data": {
      "text/latex": [
       "$\\displaystyle 20 \\pi$"
      ],
      "text/plain": [
       "20*pi"
      ]
     },
     "execution_count": 18,
     "metadata": {},
     "output_type": "execute_result"
    }
   ],
   "source": [
    "area"
   ]
  },
  {
   "cell_type": "code",
   "execution_count": 19,
   "id": "a4aa3bb3",
   "metadata": {},
   "outputs": [
    {
     "data": {
      "text/plain": [
       "62.83185307179586"
      ]
     },
     "execution_count": 19,
     "metadata": {},
     "output_type": "execute_result"
    }
   ],
   "source": [
    "float(area)"
   ]
  },
  {
   "cell_type": "code",
   "execution_count": 21,
   "id": "6c4ed171",
   "metadata": {},
   "outputs": [],
   "source": [
    "x, y, z = smp.symbols(\"x y z\")"
   ]
  },
  {
   "cell_type": "code",
   "execution_count": 48,
   "id": "385d26d9",
   "metadata": {},
   "outputs": [],
   "source": [
    "expr = x**4+2*x**2*y**2+4*x*y+3*x"
   ]
  },
  {
   "cell_type": "code",
   "execution_count": 52,
   "id": "1f524846",
   "metadata": {},
   "outputs": [
    {
     "data": {
      "text/latex": [
       "$\\displaystyle x \\left(x^{3} + 2 x y^{2} + 4 y + 3\\right)$"
      ],
      "text/plain": [
       "x*(x**3 + 2*x*y**2 + 4*y + 3)"
      ]
     },
     "execution_count": 52,
     "metadata": {},
     "output_type": "execute_result"
    }
   ],
   "source": [
    "expr"
   ]
  },
  {
   "cell_type": "code",
   "execution_count": 56,
   "id": "2d4e5439",
   "metadata": {},
   "outputs": [],
   "source": [
    "expr2=smp.factor(expr)"
   ]
  },
  {
   "cell_type": "code",
   "execution_count": 57,
   "id": "55cb22f4",
   "metadata": {},
   "outputs": [
    {
     "data": {
      "text/latex": [
       "$\\displaystyle x \\left(x^{3} + 2 x y^{2} + 4 y + 3\\right)$"
      ],
      "text/plain": [
       "x*(x**3 + 2*x*y**2 + 4*y + 3)"
      ]
     },
     "execution_count": 57,
     "metadata": {},
     "output_type": "execute_result"
    }
   ],
   "source": [
    "expr2"
   ]
  },
  {
   "cell_type": "code",
   "execution_count": 61,
   "id": "a3a77194",
   "metadata": {},
   "outputs": [
    {
     "data": {
      "text/latex": [
       "$\\displaystyle x^{4} + 2 x^{2} y^{2} + 4 x y + 3 x$"
      ],
      "text/plain": [
       "x**4 + 2*x**2*y**2 + 4*x*y + 3*x"
      ]
     },
     "execution_count": 61,
     "metadata": {},
     "output_type": "execute_result"
    }
   ],
   "source": [
    "smp.expand(expr2)"
   ]
  },
  {
   "cell_type": "code",
   "execution_count": 69,
   "id": "793b72b7",
   "metadata": {},
   "outputs": [],
   "source": [
    "from sympy import trigsimp,sin,cos\n",
    "from sympy.abc import x,y\n",
    "y = sin(x)/cos(x)"
   ]
  },
  {
   "cell_type": "code",
   "execution_count": 70,
   "id": "e899620e",
   "metadata": {},
   "outputs": [
    {
     "data": {
      "text/latex": [
       "$\\displaystyle \\tan{\\left(x \\right)}$"
      ],
      "text/plain": [
       "tan(x)"
      ]
     },
     "execution_count": 70,
     "metadata": {},
     "output_type": "execute_result"
    }
   ],
   "source": [
    "smp.trigsimp(y)"
   ]
  },
  {
   "cell_type": "code",
   "execution_count": 71,
   "id": "eba82e62",
   "metadata": {},
   "outputs": [
    {
     "data": {
      "text/latex": [
       "$\\displaystyle \\tan{\\left(x \\right)}$"
      ],
      "text/plain": [
       "tan(x)"
      ]
     },
     "execution_count": 71,
     "metadata": {},
     "output_type": "execute_result"
    }
   ],
   "source": [
    "smp.tan(x)"
   ]
  },
  {
   "cell_type": "code",
   "execution_count": 75,
   "id": "569e152c",
   "metadata": {},
   "outputs": [
    {
     "data": {
      "text/plain": [
       "-1.995200412208242"
      ]
     },
     "execution_count": 75,
     "metadata": {},
     "output_type": "execute_result"
    }
   ],
   "source": [
    "float(smp.tan(90))"
   ]
  },
  {
   "cell_type": "code",
   "execution_count": 81,
   "id": "33415bfa",
   "metadata": {},
   "outputs": [
    {
     "data": {
      "text/latex": [
       "$\\displaystyle \\frac{1}{\\tan{\\left(x \\right)}}$"
      ],
      "text/plain": [
       "1/tan(x)"
      ]
     },
     "execution_count": 81,
     "metadata": {},
     "output_type": "execute_result"
    }
   ],
   "source": [
    "smp.trigsimp(smp.cos(x)/smp.sin(x))"
   ]
  },
  {
   "cell_type": "code",
   "execution_count": 84,
   "id": "acb2284b",
   "metadata": {},
   "outputs": [
    {
     "data": {
      "text/latex": [
       "$\\displaystyle \\frac{\\sin{\\left(2 x \\right)}}{2}$"
      ],
      "text/plain": [
       "sin(2*x)/2"
      ]
     },
     "execution_count": 84,
     "metadata": {},
     "output_type": "execute_result"
    }
   ],
   "source": [
    "smp.trigsimp(smp.cos(x)*smp.sin(x))"
   ]
  },
  {
   "cell_type": "code",
   "execution_count": 86,
   "id": "c3060025",
   "metadata": {},
   "outputs": [
    {
     "data": {
      "text/latex": [
       "$\\displaystyle 1$"
      ],
      "text/plain": [
       "1"
      ]
     },
     "execution_count": 86,
     "metadata": {},
     "output_type": "execute_result"
    }
   ],
   "source": [
    "smp.trigsimp(smp.cos(x)*smp.sec(x))"
   ]
  }
 ],
 "metadata": {
  "kernelspec": {
   "display_name": "Python 3 (ipykernel)",
   "language": "python",
   "name": "python3"
  },
  "language_info": {
   "codemirror_mode": {
    "name": "ipython",
    "version": 3
   },
   "file_extension": ".py",
   "mimetype": "text/x-python",
   "name": "python",
   "nbconvert_exporter": "python",
   "pygments_lexer": "ipython3",
   "version": "3.10.8"
  }
 },
 "nbformat": 4,
 "nbformat_minor": 5
}
